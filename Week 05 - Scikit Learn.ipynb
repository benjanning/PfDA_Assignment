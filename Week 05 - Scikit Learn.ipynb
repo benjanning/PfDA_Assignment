{
 "cells": [
  {
   "cell_type": "markdown",
   "id": "7ae1582d",
   "metadata": {},
   "source": [
    "## Scikit Learn \n"
   ]
  },
  {
   "cell_type": "markdown",
   "id": "2f7a6202",
   "metadata": {},
   "source": [
    "## Libraries"
   ]
  },
  {
   "cell_type": "code",
   "execution_count": 27,
   "id": "4a921f96",
   "metadata": {},
   "outputs": [
    {
     "ename": "ModuleNotFoundError",
     "evalue": "No module named 'sklearn'",
     "output_type": "error",
     "traceback": [
      "\u001b[1;31m---------------------------------------------------------------------------\u001b[0m",
      "\u001b[1;31mModuleNotFoundError\u001b[0m                       Traceback (most recent call last)",
      "Input \u001b[1;32mIn [27]\u001b[0m, in \u001b[0;36m<cell line: 1>\u001b[1;34m()\u001b[0m\n\u001b[1;32m----> 1\u001b[0m \u001b[38;5;28;01mimport\u001b[39;00m \u001b[38;5;21;01msklearn\u001b[39;00m\u001b[38;5;21;01m.\u001b[39;00m\u001b[38;5;21;01mneighbours\u001b[39;00m \u001b[38;5;28;01mas\u001b[39;00m \u001b[38;5;21;01mnei\u001b[39;00m\n\u001b[0;32m      2\u001b[0m \u001b[38;5;28;01mimport\u001b[39;00m \u001b[38;5;21;01mpandas\u001b[39;00m \u001b[38;5;28;01mas\u001b[39;00m \u001b[38;5;21;01mpd\u001b[39;00m\n",
      "\u001b[1;31mModuleNotFoundError\u001b[0m: No module named 'sklearn'"
     ]
    }
   ],
   "source": [
    "import sklearn.neighbours as nei\n",
    "import pandas as pd"
   ]
  },
  {
   "cell_type": "markdown",
   "id": "81ccecba",
   "metadata": {},
   "source": [
    "## Data"
   ]
  },
  {
   "cell_type": "code",
   "execution_count": null,
   "id": "0d99c54d",
   "metadata": {},
   "outputs": [],
   "source": [
    "df = pd.read_csv(\"https://raw.githubusercontent.com/illinois-cse/data-fa14/gh-pages/data/iris.csv\")"
   ]
  },
  {
   "cell_type": "code",
   "execution_count": null,
   "id": "e75fe1cd",
   "metadata": {},
   "outputs": [],
   "source": [
    "df"
   ]
  },
  {
   "cell_type": "markdown",
   "id": "e6d84a28",
   "metadata": {},
   "source": [
    "## Visualise"
   ]
  },
  {
   "cell_type": "code",
   "execution_count": null,
   "id": "5735b5fb",
   "metadata": {},
   "outputs": [],
   "source": [
    "import seaborn as sns\n",
    "sns.pairplot(df, hue=\"species\")"
   ]
  },
  {
   "cell_type": "markdown",
   "id": "2a96c2b9",
   "metadata": {},
   "source": [
    "## Inputs and Outputs"
   ]
  },
  {
   "cell_type": "code",
   "execution_count": null,
   "id": "96ff5d23",
   "metadata": {},
   "outputs": [],
   "source": [
    "inputs = df[['sepal_length', 'sepal_width', 'petal_length', 'petal_width']]\n",
    "outputs = df['species']"
   ]
  },
  {
   "cell_type": "markdown",
   "id": "68452f94",
   "metadata": {},
   "source": [
    "## Classifier"
   ]
  },
  {
   "cell_type": "code",
   "execution_count": null,
   "id": "716a35e5",
   "metadata": {},
   "outputs": [],
   "source": [
    "knn = nei.KNeighboursClassifier(n_neighbours=5)"
   ]
  },
  {
   "cell_type": "markdown",
   "id": "f14cf0d0",
   "metadata": {},
   "source": [
    "## Fit"
   ]
  },
  {
   "cell_type": "code",
   "execution_count": null,
   "id": "fcd56963",
   "metadata": {},
   "outputs": [],
   "source": [
    "knn.fit(inputs,outputs)"
   ]
  },
  {
   "cell_type": "markdown",
   "id": "27b70d86",
   "metadata": {},
   "source": [
    "## Predict"
   ]
  },
  {
   "cell_type": "code",
   "execution_count": null,
   "id": "81f9283c",
   "metadata": {},
   "outputs": [],
   "source": [
    "df.loc[0]"
   ]
  },
  {
   "cell_type": "code",
   "execution_count": null,
   "id": "3fb8cf08",
   "metadata": {},
   "outputs": [],
   "source": [
    "knn.predict([[5.2,3.7,1.6,0.4]])"
   ]
  },
  {
   "cell_type": "markdown",
   "id": "5fb00d97",
   "metadata": {},
   "source": [
    "## Evaluate"
   ]
  },
  {
   "cell_type": "code",
   "execution_count": null,
   "id": "439c7ed1",
   "metadata": {},
   "outputs": [],
   "source": [
    "(knn.predict(inputs)==outputs.sum()"
   ]
  },
  {
   "cell_type": "code",
   "execution_count": null,
   "id": "52bd5a98",
   "metadata": {},
   "outputs": [],
   "source": [
    "inputs_train, inputs_test, ouputs_train, outputs_test = mod.train_test_split(inputs, outputs, test_size=0.33)"
   ]
  },
  {
   "cell_type": "code",
   "execution_count": null,
   "id": "9dbbc87c",
   "metadata": {},
   "outputs": [],
   "source": [
    "knn = nei.KNeighboursClassifier(n_neighbours=5)"
   ]
  },
  {
   "cell_type": "code",
   "execution_count": null,
   "id": "a73c387e",
   "metadata": {},
   "outputs": [],
   "source": [
    "knn.fit(inputs_train, outputs_train)"
   ]
  },
  {
   "cell_type": "code",
   "execution_count": null,
   "id": "579cfa65",
   "metadata": {},
   "outputs": [],
   "source": [
    "(knn.predict(inputs_test)==ouputs_test).sum()"
   ]
  }
 ],
 "metadata": {
  "kernelspec": {
   "display_name": "Python 3 (ipykernel)",
   "language": "python",
   "name": "python3"
  },
  "language_info": {
   "codemirror_mode": {
    "name": "ipython",
    "version": 3
   },
   "file_extension": ".py",
   "mimetype": "text/x-python",
   "name": "python",
   "nbconvert_exporter": "python",
   "pygments_lexer": "ipython3",
   "version": "3.10.2"
  }
 },
 "nbformat": 4,
 "nbformat_minor": 5
}
